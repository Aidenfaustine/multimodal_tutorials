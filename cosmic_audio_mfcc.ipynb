{
 "cells": [
  {
   "cell_type": "code",
   "execution_count": 55,
   "metadata": {},
   "outputs": [
    {
     "data": {
      "text/plain": [
       "(list, 17)"
      ]
     },
     "execution_count": 55,
     "metadata": {},
     "output_type": "execute_result"
    }
   ],
   "source": [
    "#packages\n",
    "from dataloader import MELDRobertaCometDataset\n",
    "from torch.utils.data import DataLoader\n",
    "\n",
    "classify = 'emotion'\n",
    "\n",
    "trainset = MELDRobertaCometDataset('train', classify)\n",
    "train_loader = DataLoader(trainset,\n",
    "                            batch_size=4,\n",
    "                            collate_fn=trainset.collate_fn,\n",
    "                            num_workers=0,\n",
    "                            pin_memory=False)\n",
    "#dataloader\n",
    "data = iter(train_loader)._next_data()\n",
    "type(data), len(data)"
   ]
  },
  {
   "cell_type": "code",
   "execution_count": 56,
   "metadata": {},
   "outputs": [
    {
     "data": {
      "text/plain": [
       "[torch.Size([14, 4, 1024]),\n",
       " torch.Size([14, 4, 1024]),\n",
       " torch.Size([14, 4, 1024]),\n",
       " torch.Size([14, 4, 1024])]"
      ]
     },
     "execution_count": 56,
     "metadata": {},
     "output_type": "execute_result"
    }
   ],
   "source": [
    "r1, r2, r3, r4, \\\n",
    "x1, x2, x3, x4, x5, x6, \\\n",
    "o1, o2, o3, \\\n",
    "qmask, umask, label = data[:-1]\n",
    "\n",
    "[x.size() for x in [r1, r2, r3, r4]]  # (seq_len, batch, robert_dim)\n",
    "# roberta1 roberta2 roberta3 roberta4"
   ]
  },
  {
   "cell_type": "code",
   "execution_count": 46,
   "metadata": {},
   "outputs": [
    {
     "name": "stdout",
     "output_type": "stream",
     "text": [
      "[[5.66, 8.265343, -15.91956, -33.28686, -7.380163, 10.40167, 9.449631, -26.41556, 32.08728, 0.7503493, -17.00401, 16.78266]]\n",
      "1\n"
     ]
    }
   ],
   "source": [
    "#load packages\n",
    "import os\n",
    "import numpy as np\n",
    "import torch\n",
    "csv_path = 'C:/Users/faustineljc/Desktop/dia0_utt0.csv'\n",
    "tmp_feature = []\n",
    "\n",
    "with open(csv_path) as f:\n",
    "    last_line = f.readlines()[-1] # ARFF格式csv文件最后一行包含特征数据\n",
    "    feature = last_line.split(\";\")\n",
    "    feature = np.array(feature[1:13], dtype=\"float64\").tolist()  # 第2到倒数第二个为特征数据，共384维特征\n",
    "    tmp_feature.append(feature)\n",
    "    \n",
    "\n",
    "print(tmp_feature)\n",
    "print(len(tmp_feature))"
   ]
  },
  {
   "cell_type": "code",
   "execution_count": null,
   "metadata": {},
   "outputs": [],
   "source": []
  },
  {
   "cell_type": "code",
   "execution_count": null,
   "metadata": {},
   "outputs": [],
   "source": []
  }
 ],
 "metadata": {
  "kernelspec": {
   "display_name": "Python 3",
   "language": "python",
   "name": "python3"
  },
  "language_info": {
   "codemirror_mode": {
    "name": "ipython",
    "version": 3
   },
   "file_extension": ".py",
   "mimetype": "text/x-python",
   "name": "python",
   "nbconvert_exporter": "python",
   "pygments_lexer": "ipython3",
   "version": "3.8.5"
  }
 },
 "nbformat": 4,
 "nbformat_minor": 4
}
